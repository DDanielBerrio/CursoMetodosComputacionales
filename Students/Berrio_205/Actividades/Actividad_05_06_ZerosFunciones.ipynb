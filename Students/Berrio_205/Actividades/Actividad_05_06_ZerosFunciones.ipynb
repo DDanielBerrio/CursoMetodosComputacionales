{
 "cells": [
  {
   "cell_type": "markdown",
   "id": "3a6dc6a1",
   "metadata": {
    "id": "3a6dc6a1"
   },
   "source": [
    "<a href=\"https://colab.research.google.com/github/hernansalinas/autogrades/blob/main/Actividades_clase/Actividad_05_06_ZerosFunciones.ipynb\" target=\"_parent\"><img src=\"https://colab.research.google.com/assets/colab-badge.svg\" alt=\"Open In Colab\"/></a>\n",
    "\n",
    "\n",
    "\n",
    "# Actividad 5\n",
    "### Métodos computacionales para físicos  y astrónomos\n",
    "### Universidad de Antioquia\n",
    "### Prof: Hernan D. Salinas Jiménez\n",
    "Ref: https://github.com/restrepo/ComputationalMethods"
   ]
  },
  {
   "cell_type": "markdown",
   "id": "8e59c672",
   "metadata": {
    "id": "8e59c672"
   },
   "source": [
    "1. Implementar el metodo de la bisección para determinar las raices de una función.\n",
    "2. Implementar el metodo de la newton para determinar las raices de una función.\n",
    "\n",
    "Prueba tu resultado para:\n"
   ]
  },
  {
   "cell_type": "markdown",
   "id": "ee7acda4",
   "metadata": {
    "id": "ee7acda4"
   },
   "source": [
    "  \n",
    " 2. $a e^{x}-2= b\\cos(e^x-2)$"
   ]
  },
  {
   "cell_type": "code",
   "execution_count": 2,
   "id": "d0073dbf",
   "metadata": {
    "id": "d0073dbf",
    "tags": []
   },
   "outputs": [],
   "source": [
    "import numpy as np"
   ]
  },
  {
   "cell_type": "code",
   "execution_count": 12,
   "id": "ae75ac84-45f0-4884-bbc8-015d2152b87f",
   "metadata": {
    "tags": []
   },
   "outputs": [],
   "source": [
    "f = lambda x: a*np.exp(x) - 2 - b*np.cos(np.exp(x)-2)  # Ecuación igualada a cero.\n",
    "df = lambda x: a*np.exp(x) + b*np.sin(np.exp(x)-2)*np.exp(x)  # Derivada de la ecuación anterior."
   ]
  },
  {
   "cell_type": "code",
   "execution_count": 13,
   "id": "8d2479c6-5852-4aee-b083-f992399ca6f0",
   "metadata": {
    "tags": []
   },
   "outputs": [],
   "source": [
    "def bis(f, xa, xb, epsilon, nmax):\n",
    "    niter = 0\n",
    "    \n",
    "    while(f(xa)*f(xb)<0 | niter <= nmax):\n",
    "\n",
    "        niter = niter+1\n",
    "        xc = (xa+xb)/2\n",
    "         \n",
    "        if (f(xc) < 0):\n",
    "            xa = xc\n",
    "        elif (f(xc) > 0):\n",
    "            xb = xc\n",
    "        elif (abs(f(xc) < epsilon)):\n",
    "            print('El cero es: ', xc)\n",
    "            break\n",
    "        else: \n",
    "            print('Error')\n",
    "        \n",
    "    return xc \n"
   ]
  },
  {
   "cell_type": "code",
   "execution_count": 27,
   "id": "33530ce9-da4d-4bde-8c3c-dfb2370ac366",
   "metadata": {
    "tags": []
   },
   "outputs": [
    {
     "name": "stdout",
     "output_type": "stream",
     "text": [
      "Estimación de raíz uno por el método de bisección -3.99951171875\n",
      "Estimación de raíz dos por el método de bisección 1.0224609375\n"
     ]
    }
   ],
   "source": [
    "a = 2\n",
    "b = 5\n",
    "\n",
    "xa_1 = -4\n",
    "xb_1 = -3\n",
    "xa_2 = 1\n",
    "xb_2 = 3\n",
    "\n",
    "epsilon = 1e-5\n",
    "nmax = 10\n",
    "\n",
    "print('Estimación de raíz uno por el método de bisección', bis(f, xa_1, xb_1, epsilon, nmax))\n",
    "print('Estimación de raíz dos por el método de bisección', bis(f, xa_2, xb_2, epsilon, nmax))"
   ]
  },
  {
   "cell_type": "code",
   "execution_count": 31,
   "id": "163f55f4-dcf8-4b02-bd69-89fddb1fc200",
   "metadata": {
    "tags": []
   },
   "outputs": [],
   "source": [
    "def newton_raphson(f,df,x0,epsilon,nmax):\n",
    "    ite = 0\n",
    "\n",
    "    while(abs(f(x0)) >= epsilon) & (ite <= nmax):\n",
    "        x1 = x0 - f(x0)/df(x0)\n",
    "        x0 = x1\n",
    "        ite += 1\n",
    "    \n",
    "    return x0#, ite"
   ]
  },
  {
   "cell_type": "code",
   "execution_count": 32,
   "id": "d0c3e207-e0fb-4afe-a710-7d074f4f130b",
   "metadata": {
    "tags": []
   },
   "outputs": [
    {
     "name": "stdout",
     "output_type": "stream",
     "text": [
      "Estimación de raíz uno por el método de Newton-Rhapson -3.4637202891519485\n",
      "Estimación de raíz dos por el método de Newton-Rhapson 1.0220965241947393\n"
     ]
    }
   ],
   "source": [
    "#epsilon = 1e-5\n",
    "x0_1 = -3\n",
    "x0_2 = 2\n",
    "\n",
    "#nmax = 10\n",
    "\n",
    "print('Estimación de raíz uno por el método de Newton-Rhapson', newton_raphson(f,df,x0_1,epsilon,nmax))\n",
    "print('Estimación de raíz dos por el método de Newton-Rhapson', newton_raphson(f,df,x0_2,epsilon,nmax))"
   ]
  },
  {
   "cell_type": "code",
   "execution_count": null,
   "id": "b7e4c417-47c9-47a8-9f85-e49e14bfccaf",
   "metadata": {},
   "outputs": [],
   "source": []
  }
 ],
 "metadata": {
  "colab": {
   "provenance": []
  },
  "kernelspec": {
   "display_name": "Python 3 (ipykernel)",
   "language": "python",
   "name": "python3"
  },
  "language_info": {
   "codemirror_mode": {
    "name": "ipython",
    "version": 3
   },
   "file_extension": ".py",
   "mimetype": "text/x-python",
   "name": "python",
   "nbconvert_exporter": "python",
   "pygments_lexer": "ipython3",
   "version": "3.11.5"
  }
 },
 "nbformat": 4,
 "nbformat_minor": 5
}
