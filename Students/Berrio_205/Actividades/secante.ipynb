{
 "cells": [
  {
   "cell_type": "code",
   "execution_count": null,
   "id": "7afd58d4-9d28-4f45-ae91-8ec08a7089b5",
   "metadata": {
    "tags": []
   },
   "outputs": [],
   "source": [
    "from scipy import optimize\n",
    "import numpy as np\n",
    "import matplotlib.pylab as plt "
   ]
  },
  {
   "cell_type": "code",
   "execution_count": null,
   "id": "ef9fe519-01ec-4e2d-84b2-e77e0aa22887",
   "metadata": {
    "tags": []
   },
   "outputs": [],
   "source": [
    "f = lambda x: x**2 - np.log(x) - 1"
   ]
  },
  {
   "cell_type": "code",
   "execution_count": null,
   "id": "d29169c7-92a8-48be-b41e-3eaeedf0864b",
   "metadata": {
    "tags": []
   },
   "outputs": [],
   "source": [
    "x_ = np.linspace(0.1, 2, 100)\n",
    "y_ = f(x_)\n",
    "z_ = np.zeros(len(x_))\n",
    "\n",
    "plt.figure()\n",
    "plt.plot(x_, y_, 'r-', label = 'f(x)')\n",
    "plt.plot(x_, z_, 'b--', label = 'f(x) = 0')\n",
    "plt.legend()\n",
    "plt.grid()\n",
    "plt.xlabel('Preimagen')\n",
    "plt.ylabel('Imagen')\n",
    "plt.show()"
   ]
  },
  {
   "cell_type": "code",
   "execution_count": null,
   "id": "0037192b-977d-44f3-b4ea-c20745abe756",
   "metadata": {
    "tags": []
   },
   "outputs": [],
   "source": [
    "root_secant = optimize.newton(f, 2)\n",
    "root_secant = optimize.newton(f, 0.1)\n",
    "print('De acuerdo con el método de la secante la raíz es: ', root_secant)\n",
    "print('De acuerdo con el método de la secante la raíz es: ', root_secant)"
   ]
  },
  {
   "cell_type": "code",
   "execution_count": null,
   "id": "5f643ab3-feca-4113-a2c8-3994ddca446f",
   "metadata": {
    "tags": []
   },
   "outputs": [],
   "source": [
    "g = lambda x, a1, a2: x**2 - a1*np.log(x) - a2"
   ]
  },
  {
   "cell_type": "code",
   "execution_count": null,
   "id": "c2c0b974-4bb4-48f7-b25e-5bd511a5e2d8",
   "metadata": {
    "tags": []
   },
   "outputs": [],
   "source": [
    "a1 = 1\n",
    "a2 = 1\n",
    "\n",
    "x_ = np.linspace(0.1, 2, 100)\n",
    "y_ = g(x_, a1, a2)\n",
    "z_ = np.zeros(len(x_))\n",
    "\n",
    "plt.figure()\n",
    "plt.plot(x_, y_, 'r-', label = 'f(x)')\n",
    "plt.plot(x_, z_, 'b--', label = 'f(x) = 0')\n",
    "plt.legend()\n",
    "plt.grid()\n",
    "plt.xlabel('Preimagen')\n",
    "plt.ylabel('Imagen')\n",
    "plt.show()"
   ]
  },
  {
   "cell_type": "code",
   "execution_count": null,
   "id": "d017c52b-491f-489d-98d6-77ffcc77a355",
   "metadata": {
    "tags": []
   },
   "outputs": [],
   "source": [
    "params = (1,1)\n",
    "\n",
    "root_secant = optimize.newton(g, 2, args = params)\n",
    "print('De acuerdo con el método de la secante la raíz es: ', root_secant)"
   ]
  },
  {
   "cell_type": "code",
   "execution_count": null,
   "id": "6f55f86e-95ef-4e59-b6c4-6103f92360de",
   "metadata": {
    "tags": []
   },
   "outputs": [],
   "source": [
    "def fun(x):\n",
    "    return x**2 - np.log(x) - 1\n",
    "def gen(x):\n",
    "    return x - fun(x)\n",
    "\n",
    "def punto_fijo()\n",
    "\n",
    "epsilon = 1e-4\n",
    "\n",
    "x0 = 0.5 \n",
    "y = g(x0)\n",
    "\n",
    "\n",
    "if(abs(x0 - g(x0)) > epsilon):\n",
    "    x0 = g(x0)\n",
    "    y = g(y)\n",
    "    \n",
    "elif:\n",
    "    \n"
   ]
  },
  {
   "cell_type": "code",
   "execution_count": null,
   "id": "0b91b5df-db2a-4d86-b7af-871f9508cfc7",
   "metadata": {},
   "outputs": [],
   "source": []
  }
 ],
 "metadata": {
  "kernelspec": {
   "display_name": "Python 3 (ipykernel)",
   "language": "python",
   "name": "python3"
  },
  "language_info": {
   "codemirror_mode": {
    "name": "ipython",
    "version": 3
   },
   "file_extension": ".py",
   "mimetype": "text/x-python",
   "name": "python",
   "nbconvert_exporter": "python",
   "pygments_lexer": "ipython3",
   "version": "3.11.5"
  }
 },
 "nbformat": 4,
 "nbformat_minor": 5
}
